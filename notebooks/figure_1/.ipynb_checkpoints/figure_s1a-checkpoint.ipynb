{
 "cells": [
  {
   "cell_type": "code",
   "execution_count": 4,
   "metadata": {},
   "outputs": [],
   "source": [
    "import numpy as np\n",
    "import pandas as pd\n",
    "import glob\n",
    "import musclebeachtools as mbt\n",
    "from matplotlib import pyplot as plt\n",
    "from matplotlib.lines import Line2D\n",
    "import seaborn as sns\n",
    "import eccojams as eco\n",
    "from scipy.stats import ranksums\n",
    "from scipy.stats import kstest\n",
    "from datetime import date\n",
    "import sys\n",
    "import json"
   ]
  },
  {
   "cell_type": "code",
   "execution_count": 5,
   "metadata": {},
   "outputs": [],
   "source": [
    "plt.rcParams['pdf.fonttype'] = 42\n",
    "plt.rcParams.update({'font.family':'Arial'})\n",
    "\n",
    "today = date.today()\n",
    "today = today.strftime(\"%Y_%m_%d\")\n",
    "\n",
    "basedir = '/hlabhome/sbrunwa/git/appps1'\n",
    "pth = f'{basedir}/notebooks/figure_1/'"
   ]
  },
  {
   "cell_type": "code",
   "execution_count": 6,
   "metadata": {},
   "outputs": [],
   "source": [
    "#                        Colors\n",
    "\n",
    "with open(f'{basedir}/colormaps/geno_colors.json') as json_file:\n",
    "    geno_clrs = json.load(json_file)\n",
    "    \n",
    "with open(f'{basedir}/colormaps/reg_colors.json') as json_file:\n",
    "    reg_clrs = json.load(json_file)\n",
    "\n",
    "dump = 0"
   ]
  },
  {
   "cell_type": "code",
   "execution_count": 8,
   "metadata": {
    "tags": []
   },
   "outputs": [],
   "source": [
    "#Set the variables and directories\n",
    "\n",
    "binsize = 0.1 #0.01 #in seconds\n",
    "smoothed = 0\n",
    "\n",
    "animallist = ['CAF69','CAF71','CAF73','CAF74','CAF75','CAF77','CAF81','CAF82']\n",
    "datelist = ['1228','0103','0120','0125','0125','0202','0304','0304']\n",
    "epochlist = ['0_12','0_12','4_15','60_72','65_76','12_24','0_12','0_12']\n",
    "condlist = ['WT','APP','APP','APP','APP','WT','WT','WT']\n",
    "\n",
    "nrnfiles = []\n",
    "for i in range(len(animallist)):\n",
    "    nrnfiles.append(f'{basedir}/data/{animallist[i]}/{datelist[i]}/{epochlist[i]}/{animallist[i]}_{datelist[i]}_{epochlist[i]}_singleunits.npy')\n",
    "\n",
    "nrns = np.array([])\n",
    "for nrnf in nrnfiles:\n",
    "    nrns = np.append(nrns,np.load(nrnf,allow_pickle=True))\n",
    "    \n",
    "n_wt_all = eco.nrnlist_by_genotype(nrns,'WT')\n",
    "n_app_all = eco.nrnlist_by_genotype(nrns,'APP')\n",
    "\n",
    "n_wt = eco.nrnlist_by_quality(n_wt_all,[1,2])\n",
    "n_app = eco.nrnlist_by_quality(n_app_all,[1,2])"
   ]
  },
  {
   "cell_type": "code",
   "execution_count": null,
   "metadata": {},
   "outputs": [],
   "source": []
  },
  {
   "cell_type": "markdown",
   "metadata": {},
   "source": [
    "<h1>Panel A: Unit waveforms across genotype</h1>"
   ]
  },
  {
   "cell_type": "code",
   "execution_count": 9,
   "metadata": {
    "tags": []
   },
   "outputs": [],
   "source": [
    "regions = ['RSC','ACC','V1']\n",
    "\n",
    "colnames=['animal','geno','region','nrn_id','clust_idx','peaklat','wf_dur','wf_amp','presrat']\n",
    "nrnarray = np.zeros([len(n_wt)+len(n_app),len(colnames)])\n",
    "nrndf = pd.DataFrame(nrnarray,columns = colnames)\n",
    "dfind = 0\n",
    "\n",
    "for animal in animallist:\n",
    "\n",
    "    a = animallist.index(animal)\n",
    "    date = datelist[a]\n",
    "    epoch = epochlist[a]\n",
    "    cond = condlist[a]\n",
    "\n",
    "    if cond == 'WT':\n",
    "        n_animal = eco.nrnlist_by_animal(n_wt,animal)\n",
    "    elif cond == 'APP':\n",
    "        n_animal = eco.nrnlist_by_animal(n_app,animal)\n",
    "\n",
    "    for r,reg in enumerate(regions):\n",
    "        nrnlist_reg = eco.nrnlist_by_region(n_animal,reg)\n",
    "        for nrn_id,nrn in enumerate(nrnlist_reg):\n",
    "            clustidx = nrn.clust_idx\n",
    "            peaklat = nrn.peaklatency\n",
    "            wf_dur = (np.argmax(nrn.waveform) - np.argmin(nrn.waveform)) * (1e3/nrn.fs)\n",
    "            wf_amp = nrn.mean_amplitude\n",
    "            presrat = nrn.presence_ratio()\n",
    "            nrndf.iloc[dfind] = [animal,cond,reg,nrn_id,clustidx,peaklat,wf_dur,wf_amp,presrat]\n",
    "            dfind += 1\n",
    "            \n",
    "nrndf = nrndf.loc[~(nrndf==0).all(axis=1)]"
   ]
  },
  {
   "cell_type": "code",
   "execution_count": 10,
   "metadata": {
    "tags": []
   },
   "outputs": [
    {
     "data": {
      "image/png": "[encoded data removed]",
      "text/plain": [
       "<Figure size 500x400 with 1 Axes>"
      ]
     },
     "metadata": {},
     "output_type": "display_data"
    }
   ],
   "source": [
    "hists_wt = np.zeros([4,49])\n",
    "hists_app = np.zeros([4,49])\n",
    "wtlist = np.unique(nrndf[nrndf.geno=='WT'].animal)\n",
    "applist = np.unique(nrndf[nrndf.geno=='APP'].animal)\n",
    "\n",
    "a = 0\n",
    "b = 0\n",
    "for anim in animallist:\n",
    "    counts, bins =  np.histogram(nrndf[nrndf.animal == anim].presrat,bins=np.linspace(0,1,50),density=True)\n",
    "    x = bins[:-1] + bins[1]/2\n",
    "    if anim in wtlist:\n",
    "        hists_wt[a,:] = eco.smooth_1darray(counts,1,1)\n",
    "        a += 1\n",
    "    elif anim in applist:\n",
    "        hists_app[b,:] = eco.smooth_1darray(counts,1,1)\n",
    "        b += 1\n",
    "        \n",
    "fig, ax = plt.subplots(figsize=(5, 4))\n",
    "meanwt = np.mean(hists_wt,axis=0)\n",
    "semwt = np.std(hists_wt,axis=0)\n",
    "meanapp = np.mean(hists_app,axis=0)\n",
    "semapp = np.std(hists_app,axis=0)\n",
    "ax.plot(x,meanwt,color=geno_clrs['WT'],alpha=0.5,linewidth=3,label='WT')\n",
    "ax.plot(x,meanapp,color=geno_clrs['APP'],alpha=0.5,linewidth=3,label='APP')\n",
    "ax.fill_between(x,meanwt-semwt,meanwt+semwt,color=geno_clrs['WT'],alpha=0.2)\n",
    "ax.fill_between(x,meanapp-semapp,meanapp+semapp,color=geno_clrs['APP'],alpha=0.2)\n",
    "\n",
    "ax.set_xlabel('Presence Ratio',fontsize = 16)\n",
    "\n",
    "plt.xticks(fontsize=12)\n",
    "plt.yticks([])\n",
    "ax.spines['right'].set_visible(False)\n",
    "ax.spines['top'].set_visible(False)\n",
    "ax.spines['left'].set_visible(False)\n",
    "\n",
    "# stat_stat, stat_p = kstest(nrndf[nrndf.geno == 'WT'].presrat.values,nrndf[nrndf.geno == 'APP'].presrat.values)\n",
    "# ax.text(0.2,10, f\"ks test: stat={np.round(stat_stat,3)}, p={np.round(stat_p,3)}\")\n",
    "\n",
    "plt.xlim(0,1)\n",
    "plt.legend(fontsize=14)\n",
    "if dump:\n",
    "    filename = 'presrat_by_geno.pdf'\n",
    "    plt.savefig(pth+today+filename,dpi=300,bbox_inches='tight')\n",
    "else:\n",
    "    pass\n",
    "plt.show()"
   ]
  },
  {
   "cell_type": "code",
   "execution_count": null,
   "metadata": {},
   "outputs": [],
   "source": []
  },
  {
   "cell_type": "markdown",
   "metadata": {},
   "source": [
    "<h1>Panel B: Unit yield across region and genotype</h1>"
   ]
  },
  {
   "cell_type": "code",
   "execution_count": 11,
   "metadata": {
    "tags": []
   },
   "outputs": [
    {
     "data": {
      "image/png": "[encoded data removed]",
      "text/plain": [
       "<Figure size 600x500 with 1 Axes>"
      ]
     },
     "metadata": {},
     "output_type": "display_data"
    }
   ],
   "source": [
    "regions = ['RSC','ACC','V1']\n",
    "\n",
    "colnames=['animal','geno','region','nrn_count','rsu_count','fs_count']\n",
    "nrnarray = np.zeros([len(animallist)*len(regions),len(colnames)])\n",
    "nrndf = pd.DataFrame(nrnarray,columns = colnames)\n",
    "dfind = 0\n",
    "\n",
    "for animal in animallist:\n",
    "\n",
    "    a = animallist.index(animal)\n",
    "    date = datelist[a]\n",
    "    epoch = epochlist[a]\n",
    "    cond = condlist[a]\n",
    "\n",
    "    if cond == 'WT':\n",
    "        n_animal = eco.nrnlist_by_animal(n_wt,animal)\n",
    "    elif cond == 'APP':\n",
    "        n_animal = eco.nrnlist_by_animal(n_app,animal)\n",
    "\n",
    "    for r,reg in enumerate(regions):\n",
    "        nrnlist_reg = eco.nrnlist_by_region(n_animal,reg)\n",
    "        nrn_count = len(nrnlist_reg)\n",
    "        rsu_count = len(eco.nrnlist_by_celltype(nrnlist_reg,'RSU'))\n",
    "        fs_count = len(eco.nrnlist_by_celltype(nrnlist_reg,'FS'))\n",
    "        nrndf.iloc[dfind] = [animal,cond,reg,nrn_count,rsu_count,fs_count]\n",
    "        dfind += 1\n",
    "\n",
    "regions = ['RSC','ACC','V1']\n",
    "uniqcond = np.array(['WT','APP'])\n",
    "\n",
    "peak_mean = np.zeros(len(regions)*2)\n",
    "peak_sem = np.zeros(len(regions)*2)\n",
    "count = 0\n",
    "#for every condition and comparison, i.e. bar in the barplot\n",
    "for reg in regions:\n",
    "    for cond in uniqcond:\n",
    "        bar_cond = cond\n",
    "        n_animals = len(np.unique(nrndf[nrndf.geno==bar_cond].animal))\n",
    "        bar_peaks = nrndf[(nrndf.geno==bar_cond)&(nrndf.region==reg)].nrn_count.values\n",
    "        if np.sum(np.isnan(bar_peaks)) > 0:\n",
    "            print('found nans')\n",
    "#         bar_sem = np.nanstd(bar_peaks) / n_animals\n",
    "        bar_sem = np.nanstd(bar_peaks)\n",
    "        peak_mean[count] = np.nanmean(bar_peaks)\n",
    "        peak_sem[count] = bar_sem\n",
    "        count += 1\n",
    "\n",
    "###PLOT\n",
    "fig, ax = plt.subplots(figsize=(6, 5))\n",
    "xpos = 0\n",
    "\n",
    "for i,comp in enumerate(regions):\n",
    "    for j,cond in enumerate(uniqcond):\n",
    "        if j == 0:\n",
    "            xfudge = 0.2\n",
    "        elif j == 1:\n",
    "            xfudge = -0.2\n",
    "\n",
    "        ax.bar(xpos + xfudge,peak_mean[xpos],yerr = peak_sem[xpos],\n",
    "               color = geno_clrs[cond],alpha=0.5, align='center', width=0.5,\n",
    "               error_kw=dict(ecolor='gray', lw=1, capsize=3, capthick=2))\n",
    "\n",
    "        plt_pts = nrndf[(nrndf.geno==cond)&(nrndf.region==comp)].nrn_count.values\n",
    "        plt_pts = plt_pts[~np.isnan(plt_pts)]\n",
    "\n",
    "        jitter = np.random.randn(len(plt_pts)) / 15\n",
    "        ax.scatter(np.tile(xpos + xfudge,len(plt_pts))+jitter,\n",
    "                    plt_pts,s=7,c='black',alpha=1,label='_nolegend_')\n",
    "        xpos += 1\n",
    "\n",
    "    stat_stat, stat_p = ranksums(nrndf[(nrndf.geno=='WT')&(nrndf.region==comp)].nrn_count.values,\n",
    "                                 nrndf[(nrndf.geno=='APP')&(nrndf.region==comp)].nrn_count.values)\n",
    "    ax.text(xpos-2,100, f\"ranksums: \\nstat={np.round(stat_stat,3)}, \\np={np.round(stat_p,3)}\")\n",
    "\n",
    "\n",
    "xtickpos = np.arange(0,len(regions)*2,2)\n",
    "ax.set_ylabel('Neuron Yield',fontsize = 18)\n",
    "ax.set_xlabel('')\n",
    "ax.get_xaxis().set_ticks(xtickpos+0.5)\n",
    "ax.get_xaxis().set_ticklabels(['RSP','ACAd','VISp'],fontsize=16)\n",
    "ytickpos = np.arange(0,101,10)\n",
    "ax.get_yaxis().set_ticks(ytickpos)\n",
    "ax.get_yaxis().set_ticklabels(ytickpos,fontsize=14)\n",
    "ax.set_ylim(0,100)\n",
    "\n",
    "ax.spines['right'].set_visible(False)\n",
    "ax.spines['top'].set_visible(False)\n",
    "plt.legend(['WT','APP'],fontsize=14)\n",
    "\n",
    "filename = 'nrnyield_by_geno.pdf'\n",
    "\n",
    "if dump:\n",
    "    plt.savefig(pth+today+filename,dpi=300,bbox_inches='tight')\n",
    "else:\n",
    "    pass\n",
    "plt.show()"
   ]
  },
  {
   "cell_type": "code",
   "execution_count": null,
   "metadata": {},
   "outputs": [],
   "source": []
  },
  {
   "cell_type": "code",
   "execution_count": null,
   "metadata": {},
   "outputs": [],
   "source": []
  },
  {
   "cell_type": "code",
   "execution_count": null,
   "metadata": {},
   "outputs": [],
   "source": []
  }
 ],
 "metadata": {
  "kernelspec": {
   "display_name": "appps1",
   "language": "python",
   "name": "appps1"
  },
  "language_info": {
   "codemirror_mode": {
    "name": "ipython",
    "version": 3
   },
   "file_extension": ".py",
   "mimetype": "text/x-python",
   "name": "python",
   "nbconvert_exporter": "python",
   "pygments_lexer": "ipython3",
   "version": "3.10.8"
  }
 },
 "nbformat": 4,
 "nbformat_minor": 5
}
